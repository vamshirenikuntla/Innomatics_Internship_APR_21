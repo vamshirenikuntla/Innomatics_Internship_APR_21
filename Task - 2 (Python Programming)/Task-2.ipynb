{
 "cells": [
  {
   "cell_type": "markdown",
   "metadata": {},
   "source": [
    "### Task -2 (python programming)\n",
    "\n"
   ]
  },
  {
   "cell_type": "code",
   "execution_count": 2,
   "metadata": {},
   "outputs": [
    {
     "name": "stdout",
     "output_type": "stream",
     "text": [
      "1\n",
      "1\n",
      "1\n",
      "2\n",
      "[[0, 0, 0], [0, 0, 1], [0, 1, 0], [1, 0, 0], [1, 1, 1]]\n"
     ]
    }
   ],
   "source": [
    "# Question-1\n",
    "\n",
    "if __name__ == '__main__':\n",
    "    x = int(input())\n",
    "    y = int(input())\n",
    "    z = int(input())\n",
    "    n = int(input())\n",
    "    \n",
    "    list = [[i,j,k] for i in range(x+1) \n",
    "                       for j in range(y+1) \n",
    "                       for k in range(z+1)  \n",
    "                       if ((i+j+k) !=n)]\n",
    "    \n",
    "    print(list)"
   ]
  },
  {
   "cell_type": "code",
   "execution_count": null,
   "metadata": {},
   "outputs": [],
   "source": [
    "# Question-2\n",
    "\n",
    "if __name__ == '__main__':\n",
    "    n = int(input())\n",
    "    arr = map(int, input().split())\n",
    "    runner_up = (sorted(set(arr))[-2]) # slicing\n",
    "    print(runner_up)"
   ]
  },
  {
   "cell_type": "code",
   "execution_count": null,
   "metadata": {},
   "outputs": [],
   "source": [
    "# Question-3\n",
    "\n",
    "if __name__ == '__main__':\n",
    "#     records = [[\"Harry\",37.21],[\"Berry\", 37.21],[\"Tina\", 37.2], [\"Akriti\", 41],[\"Harsh\", 39]]\n",
    "    marksheet = []\n",
    "    for _ in range(0,int(input())):\n",
    "        marksheet.append([input(), float(input())])\n",
    "\n",
    "    second_highest = sorted(list(set([marks for name, marks in marksheet])))[1]\n",
    "    print('\\n'.join([a for a,b in sorted(marksheet) if b == second_highest]))\n"
   ]
  },
  {
   "cell_type": "code",
   "execution_count": null,
   "metadata": {},
   "outputs": [],
   "source": []
  }
 ],
 "metadata": {
  "kernelspec": {
   "display_name": "Python 3",
   "language": "python",
   "name": "python3"
  },
  "language_info": {
   "codemirror_mode": {
    "name": "ipython",
    "version": 3
   },
   "file_extension": ".py",
   "mimetype": "text/x-python",
   "name": "python",
   "nbconvert_exporter": "python",
   "pygments_lexer": "ipython3",
   "version": "3.8.1"
  }
 },
 "nbformat": 4,
 "nbformat_minor": 4
}
